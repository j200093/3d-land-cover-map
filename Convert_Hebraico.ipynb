{
  "nbformat": 4,
  "nbformat_minor": 0,
  "metadata": {
    "colab": {
      "provenance": [],
      "authorship_tag": "ABX9TyPBWCF20QyY0ZjgrBL4m+t2",
      "include_colab_link": true
    },
    "kernelspec": {
      "name": "python3",
      "display_name": "Python 3"
    },
    "language_info": {
      "name": "python"
    }
  },
  "cells": [
    {
      "cell_type": "markdown",
      "metadata": {
        "id": "view-in-github",
        "colab_type": "text"
      },
      "source": [
        "<a href=\"https://colab.research.google.com/github/j200093/3d-land-cover-map/blob/main/Convert_Hebraico.ipynb\" target=\"_parent\"><img src=\"https://colab.research.google.com/assets/colab-badge.svg\" alt=\"Open In Colab\"/></a>"
      ]
    },
    {
      "cell_type": "code",
      "execution_count": 1,
      "metadata": {
        "id": "gj61SPUdQYQk"
      },
      "outputs": [],
      "source": [
        "#Converte a transliteração adotada em alguns livros de Cabala para caracteres em hebraico\n",
        "#Desenvolvido por Wellington Albuquerque para aplicar nos livros de Yair Alon nos estudos de Cabalá.\n",
        "#Testado no livro Espada de Moisés"
      ]
    },
    {
      "cell_type": "code",
      "source": [
        "!python --version\n"
      ],
      "metadata": {
        "colab": {
          "base_uri": "https://localhost:8080/"
        },
        "id": "wwy0oCtMSnW_",
        "outputId": "1a888656-9aff-4178-c569-946aa5bc08ce"
      },
      "execution_count": null,
      "outputs": [
        {
          "output_type": "stream",
          "name": "stdout",
          "text": [
            "Python 3.10.12\n"
          ]
        }
      ]
    },
    {
      "cell_type": "code",
      "source": [
        "#!python -m pip install --upgrade pip"
      ],
      "metadata": {
        "id": "m1M5Yrh0TD5H"
      },
      "execution_count": null,
      "outputs": []
    },
    {
      "cell_type": "code",
      "source": [
        "!pip --version"
      ],
      "metadata": {
        "colab": {
          "base_uri": "https://localhost:8080/"
        },
        "id": "7Gqk8iopTL0x",
        "outputId": "3b71e394-d868-4a2c-9dad-773eb4549538"
      },
      "execution_count": null,
      "outputs": [
        {
          "output_type": "stream",
          "name": "stdout",
          "text": [
            "pip 24.1.2 from /usr/local/lib/python3.10/dist-packages/pip (python 3.10)\n"
          ]
        }
      ]
    },
    {
      "cell_type": "code",
      "source": [
        "!pip install gtts"
      ],
      "metadata": {
        "colab": {
          "base_uri": "https://localhost:8080/"
        },
        "id": "i1SroL-SR4Ho",
        "outputId": "dc8cfaca-3fd0-4d3e-9cf7-119beda151aa"
      },
      "execution_count": null,
      "outputs": [
        {
          "output_type": "stream",
          "name": "stdout",
          "text": [
            "Collecting gtts\n",
            "  Downloading gTTS-2.5.3-py3-none-any.whl.metadata (4.1 kB)\n",
            "Requirement already satisfied: requests<3,>=2.27 in /usr/local/lib/python3.10/dist-packages (from gtts) (2.32.3)\n",
            "Requirement already satisfied: click<8.2,>=7.1 in /usr/local/lib/python3.10/dist-packages (from gtts) (8.1.7)\n",
            "Requirement already satisfied: charset-normalizer<4,>=2 in /usr/local/lib/python3.10/dist-packages (from requests<3,>=2.27->gtts) (3.3.2)\n",
            "Requirement already satisfied: idna<4,>=2.5 in /usr/local/lib/python3.10/dist-packages (from requests<3,>=2.27->gtts) (3.7)\n",
            "Requirement already satisfied: urllib3<3,>=1.21.1 in /usr/local/lib/python3.10/dist-packages (from requests<3,>=2.27->gtts) (2.0.7)\n",
            "Requirement already satisfied: certifi>=2017.4.17 in /usr/local/lib/python3.10/dist-packages (from requests<3,>=2.27->gtts) (2024.7.4)\n",
            "Downloading gTTS-2.5.3-py3-none-any.whl (29 kB)\n",
            "Installing collected packages: gtts\n",
            "Successfully installed gtts-2.5.3\n"
          ]
        }
      ]
    },
    {
      "cell_type": "code",
      "source": [
        "import pandas as pd\n",
        "import os\n",
        "\n",
        "# Mapeamento de caracteres\n",
        "char_map = {\n",
        "    '’':'א',\n",
        "    'B': 'ב',\n",
        "    'D': 'מ',\n",
        "    'G': 'ג',\n",
        "    'H': 'ה',\n",
        "    'Ĥ': 'ח',\n",
        "    'K': 'כ',\n",
        "    'L': 'ל',\n",
        "    'M': 'מ',\n",
        "    'N': 'נ',\n",
        "    'P': 'פ',\n",
        "    'Q': 'ק',\n",
        "    'R': 'ר',\n",
        "    'S': 'ס',\n",
        "    'Ş': 'צ',\n",
        "    'Š': 'ש',\n",
        "    'T': 'ת',\n",
        "    'Ť': 'ט',\n",
        "    'V': 'ו',\n",
        "    'Y': 'י',\n",
        "    'Z': 'ז'\n",
        "}\n",
        "\n"
      ],
      "metadata": {
        "id": "H4xBw6_BQj3n"
      },
      "execution_count": null,
      "outputs": []
    },
    {
      "cell_type": "code",
      "source": [
        "# Função para converter caracteres\n",
        "def convert_chars(input_str):\n",
        "    return ''.join([char_map.get(char, char) for char in input_str.upper()])\n",
        "\n",
        "# Solicitando entrada do usuário\n",
        "input_str = input(\"Digite as palavras que deseja converter: \")\n",
        "print(f\"Texto convertido: {input_str}\")\n",
        "# Convertendo caracteres\n",
        "output_str = convert_chars(input_str)\n",
        "\n",
        "print(f\"Texto convertido: {output_str}\")\n"
      ],
      "metadata": {
        "id": "zfBuE9CN5MQB"
      },
      "execution_count": null,
      "outputs": []
    },
    {
      "cell_type": "code",
      "source": [
        "from IPython.display import display, HTML\n",
        "\n",
        "display(HTML(f'<p style=\"font-size:25px\">Texto convertido: {output_str}</p>'))\n"
      ],
      "metadata": {
        "id": "TlSUds6X5xQj"
      },
      "execution_count": null,
      "outputs": []
    }
  ]
}